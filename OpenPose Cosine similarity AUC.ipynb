{
 "cells": [
  {
   "cell_type": "code",
   "execution_count": 1,
   "metadata": {},
   "outputs": [],
   "source": [
    "import os\n",
    "import pandas as pd\n",
    "import numpy as np\n",
    "import matplotlib.pyplot as plt\n",
    "from itertools import combinations\n",
    "from sklearn.metrics.pairwise import cosine_similarity\n",
    "from sklearn.metrics import roc_curve\n",
    "from sklearn.metrics import roc_auc_score\n",
    "from tqdm import tqdm"
   ]
  },
  {
   "cell_type": "code",
   "execution_count": 2,
   "metadata": {},
   "outputs": [
    {
     "name": "stdout",
     "output_type": "stream",
     "text": [
      "X shape: (1540, 25, 3)\n",
      "Y shape: (1540,)\n"
     ]
    }
   ],
   "source": [
    "# Read all npy files\n",
    "X = []\n",
    "y = []\n",
    "k = 0\n",
    "for f in os.scandir(\"./coords/openpose\"):\n",
    "    if f.is_file() and f.name != '.DS_Store':\n",
    "        x = np.load(f)\n",
    "        \n",
    "        # Remove empty coords\n",
    "        x = [coords for coords in x if 1 in coords.shape]\n",
    "        x = np.concatenate(x)\n",
    "        \n",
    "        # Sanity check\n",
    "        X.append(x)\n",
    "        y.extend([k]*x.shape[0])\n",
    "        k += 1\n",
    "\n",
    "X = np.concatenate(X)\n",
    "y = np.array(y)\n",
    "print(\"X shape: {}\".format(X.shape))\n",
    "print(\"Y shape: {}\".format(y.shape))"
   ]
  },
  {
   "cell_type": "code",
   "execution_count": 3,
   "metadata": {},
   "outputs": [],
   "source": [
    "def scale_transform_normalize(coords):\n",
    "    \"\"\"\n",
    "    Parameters:\n",
    "    coords (ndarray): array of (x,y,c) coordinates\n",
    "\n",
    "    Returns:\n",
    "    ndarray: coords scaled to 1x1 with center at (0,0)\n",
    "    ndarray: confidence scores of each joint\n",
    "    \"\"\"\n",
    "    coords, scores = coords[:,:,:-1], coords[:,:,-1]\n",
    "    diff = coords.max(axis=1) - coords.min(axis=1)\n",
    "    diff_max = np.max(diff, axis=0)\n",
    "    mean = coords.mean(axis=1).reshape(coords.shape[0],1,coords.shape[-1])\n",
    "    out = (coords - mean) / diff_max\n",
    "    out /= np.linalg.norm(out)\n",
    "    \n",
    "    return out, scores"
   ]
  },
  {
   "cell_type": "code",
   "execution_count": 4,
   "metadata": {},
   "outputs": [
    {
     "name": "stderr",
     "output_type": "stream",
     "text": [
      "1185030it [03:50, 5134.87it/s]\n"
     ]
    }
   ],
   "source": [
    "# Prepare X\n",
    "X_norm, scores = scale_transform_normalize(X)\n",
    "X_norm = X_norm.reshape((X_norm.shape[0], 1, -1))\n",
    "\n",
    "# Prepare y\n",
    "y_pred = []\n",
    "y_truth = []\n",
    "N,_,_ = X_norm.shape\n",
    "\n",
    "# Grab every possible combination of 2 rows\n",
    "for index in tqdm(combinations(np.arange(N), 2)):\n",
    "    vec_1 = X_norm[index[0]]\n",
    "    vec_2 = X_norm[index[1]]\n",
    "    cosine_score = cosine_similarity(vec_1, vec_2)[0]\n",
    "    y_pred.append(cosine_score)\n",
    "    y_truth.append(int(y[index[0]] == y[index[1]]))"
   ]
  },
  {
   "cell_type": "code",
   "execution_count": 5,
   "metadata": {},
   "outputs": [
    {
     "name": "stdout",
     "output_type": "stream",
     "text": [
      "AUC: 0.739\n"
     ]
    },
    {
     "data": {
      "image/png": "[encoded data removed]",
      "text/plain": [
       "<Figure size 432x288 with 1 Axes>"
      ]
     },
     "metadata": {
      "needs_background": "light"
     },
     "output_type": "display_data"
    }
   ],
   "source": [
    "# Check ROC, AUC\n",
    "fpr, tpr, thresholds = roc_curve(y_truth, y_pred)\n",
    "auc = roc_auc_score(y_truth, y_pred)\n",
    "print('AUC: %.3f' % auc)\n",
    "\n",
    "# Plot\n",
    "plt.plot([0, 1], [0, 1], linestyle='--')\n",
    "plt.plot(fpr, tpr, marker='.')\n",
    "plt.xlabel('FPR')\n",
    "plt.ylabel('TPR')\n",
    "plt.show()"
   ]
  }
 ],
 "metadata": {
  "kernelspec": {
   "display_name": "Python 3",
   "language": "python",
   "name": "python3"
  },
  "language_info": {
   "codemirror_mode": {
    "name": "ipython",
    "version": 3
   },
   "file_extension": ".py",
   "mimetype": "text/x-python",
   "name": "python",
   "nbconvert_exporter": "python",
   "pygments_lexer": "ipython3",
   "version": "3.6.5"
  }
 },
 "nbformat": 4,
 "nbformat_minor": 2
}
