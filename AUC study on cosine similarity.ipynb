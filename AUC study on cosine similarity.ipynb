{
 "cells": [
  {
   "cell_type": "code",
   "execution_count": 183,
   "metadata": {},
   "outputs": [],
   "source": [
    "import os\n",
    "import pandas as pd\n",
    "import numpy as np\n",
    "import matplotlib.pyplot as plt\n",
    "from itertools import combinations\n",
    "from sklearn.metrics.pairwise import cosine_similarity\n",
    "from sklearn.metrics import roc_curve\n",
    "from sklearn.metrics import roc_auc_score\n",
    "from tqdm import tqdm"
   ]
  },
  {
   "cell_type": "code",
   "execution_count": 29,
   "metadata": {},
   "outputs": [
    {
     "data": {
      "text/html": [
       "<div>\n",
       "<style scoped>\n",
       "    .dataframe tbody tr th:only-of-type {\n",
       "        vertical-align: middle;\n",
       "    }\n",
       "\n",
       "    .dataframe tbody tr th {\n",
       "        vertical-align: top;\n",
       "    }\n",
       "\n",
       "    .dataframe thead th {\n",
       "        text-align: right;\n",
       "    }\n",
       "</style>\n",
       "<table border=\"1\" class=\"dataframe\">\n",
       "  <thead>\n",
       "    <tr style=\"text-align: right;\">\n",
       "      <th></th>\n",
       "      <th>score</th>\n",
       "      <th>nose_score</th>\n",
       "      <th>leftEye_score</th>\n",
       "      <th>rightEye_score</th>\n",
       "      <th>leftEar_score</th>\n",
       "      <th>rightEar_score</th>\n",
       "      <th>leftShoulder_score</th>\n",
       "      <th>rightShoulder_score</th>\n",
       "      <th>leftElbow_score</th>\n",
       "      <th>rightElbow_score</th>\n",
       "      <th>...</th>\n",
       "      <th>rightHip_x</th>\n",
       "      <th>leftKnee_y</th>\n",
       "      <th>leftKnee_x</th>\n",
       "      <th>rightKnee_y</th>\n",
       "      <th>rightKnee_x</th>\n",
       "      <th>leftAnkle_y</th>\n",
       "      <th>leftAnkle_x</th>\n",
       "      <th>rightAnkle_y</th>\n",
       "      <th>rightAnkle_x</th>\n",
       "      <th>class</th>\n",
       "    </tr>\n",
       "  </thead>\n",
       "  <tbody>\n",
       "    <tr>\n",
       "      <th>0</th>\n",
       "      <td>0.565957</td>\n",
       "      <td>0.999123</td>\n",
       "      <td>0.998200</td>\n",
       "      <td>0.996400</td>\n",
       "      <td>0.924315</td>\n",
       "      <td>0.947072</td>\n",
       "      <td>0.957494</td>\n",
       "      <td>0.947747</td>\n",
       "      <td>0.062188</td>\n",
       "      <td>0.152223</td>\n",
       "      <td>...</td>\n",
       "      <td>183.242909</td>\n",
       "      <td>415.273558</td>\n",
       "      <td>215.838174</td>\n",
       "      <td>366.027177</td>\n",
       "      <td>160.726307</td>\n",
       "      <td>527.887454</td>\n",
       "      <td>206.924328</td>\n",
       "      <td>505.618097</td>\n",
       "      <td>131.604030</td>\n",
       "      <td>0</td>\n",
       "    </tr>\n",
       "    <tr>\n",
       "      <th>1</th>\n",
       "      <td>0.545799</td>\n",
       "      <td>0.990537</td>\n",
       "      <td>0.991718</td>\n",
       "      <td>0.992416</td>\n",
       "      <td>0.585613</td>\n",
       "      <td>0.289436</td>\n",
       "      <td>0.821773</td>\n",
       "      <td>0.936248</td>\n",
       "      <td>0.396081</td>\n",
       "      <td>0.026364</td>\n",
       "      <td>...</td>\n",
       "      <td>210.280452</td>\n",
       "      <td>478.801242</td>\n",
       "      <td>238.659256</td>\n",
       "      <td>441.879988</td>\n",
       "      <td>143.778982</td>\n",
       "      <td>580.143367</td>\n",
       "      <td>233.357855</td>\n",
       "      <td>505.307716</td>\n",
       "      <td>211.428675</td>\n",
       "      <td>0</td>\n",
       "    </tr>\n",
       "    <tr>\n",
       "      <th>2</th>\n",
       "      <td>0.657214</td>\n",
       "      <td>0.998008</td>\n",
       "      <td>0.990955</td>\n",
       "      <td>0.986429</td>\n",
       "      <td>0.671019</td>\n",
       "      <td>0.248268</td>\n",
       "      <td>0.966711</td>\n",
       "      <td>0.986788</td>\n",
       "      <td>0.902529</td>\n",
       "      <td>0.033043</td>\n",
       "      <td>...</td>\n",
       "      <td>299.850258</td>\n",
       "      <td>314.979777</td>\n",
       "      <td>419.893105</td>\n",
       "      <td>349.013720</td>\n",
       "      <td>323.449590</td>\n",
       "      <td>301.494596</td>\n",
       "      <td>337.986366</td>\n",
       "      <td>446.779468</td>\n",
       "      <td>341.193836</td>\n",
       "      <td>0</td>\n",
       "    </tr>\n",
       "    <tr>\n",
       "      <th>3</th>\n",
       "      <td>0.588887</td>\n",
       "      <td>0.990551</td>\n",
       "      <td>0.998967</td>\n",
       "      <td>0.999236</td>\n",
       "      <td>0.588298</td>\n",
       "      <td>0.714369</td>\n",
       "      <td>0.787232</td>\n",
       "      <td>0.810225</td>\n",
       "      <td>0.863416</td>\n",
       "      <td>0.685289</td>\n",
       "      <td>...</td>\n",
       "      <td>1023.983170</td>\n",
       "      <td>649.718255</td>\n",
       "      <td>1305.485842</td>\n",
       "      <td>749.196573</td>\n",
       "      <td>1068.610535</td>\n",
       "      <td>686.690766</td>\n",
       "      <td>1214.431514</td>\n",
       "      <td>910.851472</td>\n",
       "      <td>1102.573775</td>\n",
       "      <td>0</td>\n",
       "    </tr>\n",
       "    <tr>\n",
       "      <th>4</th>\n",
       "      <td>0.780212</td>\n",
       "      <td>0.998642</td>\n",
       "      <td>0.986117</td>\n",
       "      <td>0.996111</td>\n",
       "      <td>0.916750</td>\n",
       "      <td>0.888298</td>\n",
       "      <td>0.915750</td>\n",
       "      <td>0.875743</td>\n",
       "      <td>0.984774</td>\n",
       "      <td>0.833988</td>\n",
       "      <td>...</td>\n",
       "      <td>141.234296</td>\n",
       "      <td>197.203453</td>\n",
       "      <td>228.542591</td>\n",
       "      <td>236.904748</td>\n",
       "      <td>150.821788</td>\n",
       "      <td>208.283654</td>\n",
       "      <td>167.932071</td>\n",
       "      <td>320.456794</td>\n",
       "      <td>167.368610</td>\n",
       "      <td>0</td>\n",
       "    </tr>\n",
       "  </tbody>\n",
       "</table>\n",
       "<p>5 rows × 53 columns</p>\n",
       "</div>"
      ],
      "text/plain": [
       "      score  nose_score  leftEye_score  rightEye_score  leftEar_score  \\\n",
       "0  0.565957    0.999123       0.998200        0.996400       0.924315   \n",
       "1  0.545799    0.990537       0.991718        0.992416       0.585613   \n",
       "2  0.657214    0.998008       0.990955        0.986429       0.671019   \n",
       "3  0.588887    0.990551       0.998967        0.999236       0.588298   \n",
       "4  0.780212    0.998642       0.986117        0.996111       0.916750   \n",
       "\n",
       "   rightEar_score  leftShoulder_score  rightShoulder_score  leftElbow_score  \\\n",
       "0        0.947072            0.957494             0.947747         0.062188   \n",
       "1        0.289436            0.821773             0.936248         0.396081   \n",
       "2        0.248268            0.966711             0.986788         0.902529   \n",
       "3        0.714369            0.787232             0.810225         0.863416   \n",
       "4        0.888298            0.915750             0.875743         0.984774   \n",
       "\n",
       "   rightElbow_score  ...   rightHip_x  leftKnee_y   leftKnee_x  rightKnee_y  \\\n",
       "0          0.152223  ...   183.242909  415.273558   215.838174   366.027177   \n",
       "1          0.026364  ...   210.280452  478.801242   238.659256   441.879988   \n",
       "2          0.033043  ...   299.850258  314.979777   419.893105   349.013720   \n",
       "3          0.685289  ...  1023.983170  649.718255  1305.485842   749.196573   \n",
       "4          0.833988  ...   141.234296  197.203453   228.542591   236.904748   \n",
       "\n",
       "   rightKnee_x  leftAnkle_y  leftAnkle_x  rightAnkle_y  rightAnkle_x  class  \n",
       "0   160.726307   527.887454   206.924328    505.618097    131.604030      0  \n",
       "1   143.778982   580.143367   233.357855    505.307716    211.428675      0  \n",
       "2   323.449590   301.494596   337.986366    446.779468    341.193836      0  \n",
       "3  1068.610535   686.690766  1214.431514    910.851472   1102.573775      0  \n",
       "4   150.821788   208.283654   167.932071    320.456794    167.368610      0  \n",
       "\n",
       "[5 rows x 53 columns]"
      ]
     },
     "execution_count": 29,
     "metadata": {},
     "output_type": "execute_result"
    }
   ],
   "source": [
    "# Read in all dataframes\n",
    "dfs = []\n",
    "k = 0\n",
    "for f in os.scandir(\"./coords\"):\n",
    "    if f.is_file() and f.name != '.DS_Store':\n",
    "        df = pd.read_csv(f)\n",
    "        df['class'] = k\n",
    "        dfs.append(df)\n",
    "        k += 1\n",
    "        \n",
    "dfs[0].head()"
   ]
  },
  {
   "cell_type": "code",
   "execution_count": 45,
   "metadata": {},
   "outputs": [],
   "source": [
    "combined_dfs = pd.concat(dfs, ignore_index=True)"
   ]
  },
  {
   "cell_type": "code",
   "execution_count": 74,
   "metadata": {},
   "outputs": [],
   "source": [
    "# Create ground truth y\n",
    "y = []\n",
    "\n",
    "# Grab every possible combination of 2 rows\n",
    "for index in list(combinations(combined_dfs.index,2)):\n",
    "    y.append(int(combined_dfs['class'][index[0]] == combined_dfs['class'][index[1]]))"
   ]
  },
  {
   "cell_type": "code",
   "execution_count": 173,
   "metadata": {},
   "outputs": [],
   "source": [
    "def scale_transform_normalize(coords):\n",
    "    \"\"\"\n",
    "    Parameters:\n",
    "    coords (df): dataframe of (x,y) coordinates\n",
    "\n",
    "    Returns:\n",
    "    df: coords scaled to 1x1 with center at (0,0)\n",
    "    \"\"\"\n",
    "    x_cols = [col for col in coords if col.endswith('x')]\n",
    "    y_cols = [col for col in coords if col.endswith('y')]\n",
    "    x_diff = coords[x_cols].max(axis=1) - coords[x_cols].min(axis=1)\n",
    "    y_diff = coords[y_cols].max(axis=1) - coords[y_cols].min(axis=1)\n",
    "    diff_max = pd.concat([x_diff, y_diff], axis=1).max(axis=1)\n",
    "\n",
    "    coords[x_cols] = coords[x_cols].subtract(coords[x_cols].mean(axis=1), axis=0)\\\n",
    "                                   .div(diff_max, axis=0)\n",
    "    coords[y_cols] = coords[y_cols].subtract(coords[y_cols].mean(axis=1), axis=0)\\\n",
    "                                   .div(diff_max, axis=0)\n",
    "    coords.div(coords.pow(2, axis=1).sum(axis=1), axis=0)\n",
    "\n",
    "    coords = coords.fillna(0)\n",
    "    return coords"
   ]
  },
  {
   "cell_type": "code",
   "execution_count": 174,
   "metadata": {
    "scrolled": true
   },
   "outputs": [
    {
     "name": "stderr",
     "output_type": "stream",
     "text": [
      "/usr/local/lib/python3.6/site-packages/pandas/core/frame.py:3391: SettingWithCopyWarning: \n",
      "A value is trying to be set on a copy of a slice from a DataFrame.\n",
      "Try using .loc[row_indexer,col_indexer] = value instead\n",
      "\n",
      "See the caveats in the documentation: http://pandas.pydata.org/pandas-docs/stable/indexing.html#indexing-view-versus-copy\n",
      "  self[k1] = value[k2]\n"
     ]
    }
   ],
   "source": [
    "# Scale, transform, normalize vectors\n",
    "filter_col = [col for col in combined_dfs if col.endswith('x') or col.endswith('y')]\n",
    "coords = combined_dfs[filter_col]\n",
    "coords = scale_transform_normalize(coords)"
   ]
  },
  {
   "cell_type": "code",
   "execution_count": 176,
   "metadata": {},
   "outputs": [],
   "source": [
    "# Get y_pred\n",
    "y_pred = []\n",
    "\n",
    "# Grab every possible combination of 2 rows\n",
    "for index in list(combinations(coords.index,2)):\n",
    "    vec_1 = coords.loc[index[0]].values.reshape((1,34))\n",
    "    vec_2 = coords.loc[index[1]].values.reshape((1,34))\n",
    "    cosine_score = cosine_similarity(vec_1, vec_2)[0]\n",
    "    y_pred.append(cosine_score)"
   ]
  },
  {
   "cell_type": "code",
   "execution_count": 180,
   "metadata": {},
   "outputs": [
    {
     "name": "stdout",
     "output_type": "stream",
     "text": [
      "AUC: 0.712\n"
     ]
    },
    {
     "data": {
      "image/png": "[encoded data removed]",
      "text/plain": [
       "<Figure size 432x288 with 1 Axes>"
      ]
     },
     "metadata": {
      "needs_background": "light"
     },
     "output_type": "display_data"
    }
   ],
   "source": [
    "# Check ROC, AUC\n",
    "fpr, tpr, thresholds = roc_curve(y, y_pred)\n",
    "auc = roc_auc_score(y, y_pred)\n",
    "print('AUC: %.3f' % auc)\n",
    "\n",
    "# Plot\n",
    "plt.plot([0, 1], [0, 1], linestyle='--')\n",
    "plt.plot(fpr, tpr, marker='.')\n",
    "plt.xlabel('FPR')\n",
    "plt.ylabel('TPR')\n",
    "plt.show()"
   ]
  },
  {
   "cell_type": "code",
   "execution_count": 182,
   "metadata": {},
   "outputs": [
    {
     "name": "stdout",
     "output_type": "stream",
     "text": [
      "[ 2.          1.          1.         ... -0.81224168 -0.8272259\n",
      " -0.84649041]\n"
     ]
    }
   ],
   "source": [
    "print(thresholds)"
   ]
  }
 ],
 "metadata": {
  "kernelspec": {
   "display_name": "Python 3",
   "language": "python",
   "name": "python3"
  },
  "language_info": {
   "codemirror_mode": {
    "name": "ipython",
    "version": 3
   },
   "file_extension": ".py",
   "mimetype": "text/x-python",
   "name": "python",
   "nbconvert_exporter": "python",
   "pygments_lexer": "ipython3",
   "version": "3.6.5"
  }
 },
 "nbformat": 4,
 "nbformat_minor": 2
}
